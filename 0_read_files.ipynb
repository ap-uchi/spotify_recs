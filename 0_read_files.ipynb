{
 "cells": [
  {
   "attachments": {},
   "cell_type": "markdown",
   "metadata": {},
   "source": [
    "# Accessing ML Audio Features from Spotify\n",
    "---------------\n",
    "This notebook demonstrates how to access the audio features to be used in random forest classification to automatically come up with a new playlist based on an old playlist!\n",
    "\n",
    "We will be using a third-party Python API to Spotify called [`spotipy`](https://spotipy.readthedocs.io/en/2.22.1/) to access our playlists and their metadata in Python."
   ]
  },
  {
   "cell_type": "code",
   "execution_count": 15,
   "metadata": {},
   "outputs": [],
   "source": [
    "## Relevant imports\n",
    "from typing import Union, Iterable\n",
    "\n",
    "from dotenv import dotenv_values\n",
    "import spotipy\n",
    "from spotipy.oauth2 import SpotifyClientCredentials\n",
    "import pandas as pd\n",
    "import numpy as np"
   ]
  },
  {
   "attachments": {},
   "cell_type": "markdown",
   "metadata": {},
   "source": [
    "The first thing we need is a client ID and secret from [Spotify's developer API](https://developer.spotify.com/). Go through the steps of registering for a developer account and make an app in accordance with [these directions](https://developer.spotify.com/documentation/web-api/tutorials/getting-started).\n",
    "\n",
    "Once you have these keys, we shouldn't paste them directly into a notebook, particularly if it's a public one! Each user should use their own client ID and secret. We use the [dotenv package](https://github.com/theskumar/python-dotenv) to solve this issue. Create a file named `.env` in the `spotify_recs` directory and paste your client ID and secret there in the following format:\n",
    "\n",
    "        SPOTIFY_CLIENT_ID=<your_client_id_string>\n",
    "        SPOTIFY_CLIENT_SECRET=<your_client_secret_string>\n",
    "\n",
    "Then run the next cell below."
   ]
  },
  {
   "cell_type": "code",
   "execution_count": 16,
   "metadata": {},
   "outputs": [],
   "source": [
    "# Set up Spotify API client credentials\n",
    "config = dotenv_values('.env')\n",
    "client_id = config[\"SPOTIFY_CLIENT_ID\"]\n",
    "client_secret = config[\"SPOTIFY_CLIENT_SECRET\"]\n",
    "\n",
    "client_credentials_manager = SpotifyClientCredentials(client_id, client_secret)\n",
    "sp = spotipy.Spotify(client_credentials_manager=client_credentials_manager)"
   ]
  },
  {
   "attachments": {},
   "cell_type": "markdown",
   "metadata": {},
   "source": [
    "This class puts all of the information extracted by a `spotipy.playlist` into a more machine learning-friendly format, namely the `ml_data` and `ml_audio_features` attributes. All you have to do is create a `Playlist` instance, initializing it with the Spotify playlist URL."
   ]
  },
  {
   "cell_type": "code",
   "execution_count": 67,
   "metadata": {},
   "outputs": [],
   "source": [
    "class Playlist():\n",
    "\n",
    "    def __init__(self, playlist_id):\n",
    "        ## Get track metadata\n",
    "        self.playlist = sp.playlist(playlist_id=playlist_id)\n",
    "        self.raw_tracks = self.playlist['tracks']['items']\n",
    "        self.track_attribute_labels = self.raw_tracks[0]['track'].keys()\n",
    "        self.length = len(self.raw_tracks)\n",
    "\n",
    "        ## All useful information\n",
    "        self.track_ids = self.get_info('id')\n",
    "        self.track_names = self.get_info('name')\n",
    "        self.track_artists = self.get_info('artist')\n",
    "\n",
    "        audio_features = sp.audio_features(self.track_ids)\n",
    "        self.audio_features = [{k.strip():v for k,v in d.items()} \n",
    "                               for d in audio_features]\n",
    "        \n",
    "        ## Machine Learning-friendly formatting\n",
    "        self.data = pd.DataFrame(index=[self.track_ids, self.track_names], \n",
    "                                 data=self.audio_features)\n",
    "        self.data.columns = self.data.columns.str.strip()\n",
    "        self.data.index.names = ['id', 'name']\n",
    "        self.audio_feature_labels = self.data.columns\n",
    "\n",
    "        ## ML specifically (e.g. random forest)\n",
    "        # initialize likes to None\n",
    "        self.data['like'] = np.nan\n",
    "        self.ml_feature_labels = list(set(self.audio_feature_labels)-\\\n",
    "                {'type', 'id', 'uri', 'track_href', 'analysis_url'})\n",
    "        self.ml_data = self.data[self.ml_feature_labels + ['like']]\n",
    "\n",
    "    def get_info(self, info_tag:str):\n",
    "        '''Unnest information from raw_tracks dict.'''\n",
    "\n",
    "        if any([info_tag in track['track'].keys() \n",
    "                                            for track in self.raw_tracks]):\n",
    "            attributes = [track['track'][info_tag] \n",
    "                            if info_tag in track['track'].keys()\n",
    "                            else None\n",
    "                            for track in self.raw_tracks]\n",
    "            return attributes\n",
    "        \n",
    "    def set_like_status(self, like_labels:Union[Iterable, int]):\n",
    "        '''Set the like status of songs'''\n",
    "\n",
    "        if isinstance(like_labels, Iterable):\n",
    "            if len(like_labels) == self.data.shape[0] and \\\n",
    "                not (isinstance(like_labels, dict) or \n",
    "                     isinstance(like_labels, pd.Series)):\n",
    "                # A list-like object of ordered like values\n",
    "                self.data.loc[:,'like'] = like_labels\n",
    "            elif type(like_labels) in {dict, pd.Series}:\n",
    "                # Set the like value of specific songs\n",
    "                if isinstance(like_labels, dict):\n",
    "                    keys = like_labels.keys()\n",
    "                    vals = like_labels.values()\n",
    "                else:\n",
    "                    keys = like_labels.index\n",
    "                    vals = like_labels\n",
    "                try:\n",
    "                    self.data.loc[keys, 'like'] = vals\n",
    "                    self.ml_data.loc[keys, 'like'] = vals\n",
    "                except KeyError:\n",
    "                    print(f\"Specified songs don't exist in playlist. Like status not set.\")\n",
    "\n",
    "        elif isinstance(like_labels, int):\n",
    "            # Set all like values of playlist to one number\n",
    "            likes = [like_labels]*self.data.shape[0]\n",
    "            self.data.loc[:,'like'] = likes\n",
    "            self.ml_data.loc[:,'like'] = likes\n"
   ]
  },
  {
   "attachments": {},
   "cell_type": "markdown",
   "metadata": {},
   "source": [
    "Now to access the metadata from your own playlist, all you have to do is get the Spotify playlist's ID, which can be accessed from the Share Playlist URL. An example is listed below:"
   ]
  },
  {
   "cell_type": "code",
   "execution_count": 68,
   "metadata": {},
   "outputs": [],
   "source": [
    "# Specify the playlist ID for which you want to obtain song IDs and attributes\n",
    "rb_playlist_id = '5Os91wBXvZCdwiOa2aJV5I' # https://open.spotify.com/playlist/5Os91wBXvZCdwiOa2aJV5I?si=22eadc4636634b6d\n",
    "\n",
    "# Get the playlist information using the playlist ID\n",
    "rb_playlist = Playlist(rb_playlist_id)"
   ]
  },
  {
   "cell_type": "code",
   "execution_count": 69,
   "metadata": {},
   "outputs": [
    {
     "data": {
      "text/plain": [
       "['speechiness',\n",
       " 'tempo',\n",
       " 'loudness',\n",
       " 'mode',\n",
       " 'liveness',\n",
       " 'acousticness',\n",
       " 'valence',\n",
       " 'danceability',\n",
       " 'key',\n",
       " 'time_signature',\n",
       " 'duration_ms',\n",
       " 'energy',\n",
       " 'instrumentalness',\n",
       " 'like']"
      ]
     },
     "execution_count": 69,
     "metadata": {},
     "output_type": "execute_result"
    }
   ],
   "source": [
    "rb_playlist.ml_feature_labels + ['like']"
   ]
  },
  {
   "cell_type": "code",
   "execution_count": 70,
   "metadata": {},
   "outputs": [
    {
     "data": {
      "text/plain": [
       "id                      name                                                  \n",
       "5awNIWVrh2ISfvPd5IUZNh  PTT (Paint The Town)                                      0.07350\n",
       "65497v9jzFfu5sSA8ADap5  Sistema De Patio                                          0.07000\n",
       "7I0vl97TYZW86qYdgcD1qu  Back Door                                                 0.15700\n",
       "7dMTCS9BLzBqYTlAuHP8TM  XT4S1S                                                    0.10100\n",
       "0Z99Xe1lGBmq60RwJ5YU18  PING PONG                                                 0.01220\n",
       "1t8sqIScEIP0B4bQzBuI2P  MY BAG                                                    0.08640\n",
       "0bspC5fLlWgwCM6Rx1YUIh  BIG MAD                                                   0.02930\n",
       "7gRFDGEzF9UkBV233yv2dc  Shut Down                                                 0.00327\n",
       "4kXxEhuatrvwrTQycA7s9B  BIZCOCHITO                                                0.60500\n",
       "0W6I02J9xcqK8MtSeosEXb  Get Into It (Yuh)                                         0.31500\n",
       "78qd8dvwea0Gosb6Fe6j3k  Boss Bitch                                                0.12700\n",
       "16EMONl2vH3rt9f4ehTG8g  212                                                       0.01230\n",
       "69xohKu8C1fsflYAiSNbwM  Run BTS                                                   0.02010\n",
       "59WuWdDH06AYXgdoMENEa3  Mirror Mirror                                             0.00890\n",
       "6Uj1ctrBOjOas8xZXGqKk4  Woman                                                     0.08880\n",
       "7L72EQGrKTteP3IjLHNdFJ  Best Friend (feat. Doja Cat, Jamie & CHANMINA) [Remix]    0.00520\n",
       "4fsQ0K37TOXa3hEQfjEic1  ANTIFRAGILE                                               0.08210\n",
       "4YUqGDMd1yJAa5i2ShysI6  NOBODY LIKE YOU                                           0.03590\n",
       "5T9xQdmoDhiEopZv86O3mN  Bulletproof - Tiborg Remix                                0.00119\n",
       "0TzXhuxOpmvIa68QykPqIV  Sweat                                                     0.03710\n",
       "7LFN9ERrNzpsVg5BYcJCqt  Problem                                                   0.02550\n",
       "Name: acousticness, dtype: float64"
      ]
     },
     "execution_count": 70,
     "metadata": {},
     "output_type": "execute_result"
    }
   ],
   "source": [
    "rb_playlist.ml_data['acousticness']"
   ]
  },
  {
   "attachments": {},
   "cell_type": "markdown",
   "metadata": {},
   "source": [
    "Audio features are the metrics Spotify uses to describe \"the vibe\" of songs in a quantitative way. Explanations of these features are listed on the Spotify website [here](https://developer.spotify.com/documentation/web-api/reference/get-several-audio-features).These are very useful for using machine learning, especially for architectures like [random forest](https://towardsdatascience.com/understanding-random-forest-58381e0602d2)!"
   ]
  },
  {
   "attachments": {},
   "cell_type": "markdown",
   "metadata": {},
   "source": [
    "## Liking Songs\n",
    "\n",
    "In order to use machine learning to recommend a playlist, we need to define how we will decide whether we will include a given song or not. The easiest way to do that is to define a \"like\" attribute that is 1 if you like the song, and 0 if you don't (or don't want to include it in your playlist). We can set the like status of each song by passing an integer (0 or 1), which sets the like status of all the songs in the playlist to that value, by passing a list of 1s and 0s in the order that they appear in the playlist, or by a `dict`/`pandas` `Series` with key-value pairs."
   ]
  },
  {
   "cell_type": "code",
   "execution_count": 71,
   "metadata": {},
   "outputs": [
    {
     "data": {
      "text/plain": [
       "id                      name                                                  \n",
       "5awNIWVrh2ISfvPd5IUZNh  PTT (Paint The Town)                                      1.0\n",
       "65497v9jzFfu5sSA8ADap5  Sistema De Patio                                          1.0\n",
       "7I0vl97TYZW86qYdgcD1qu  Back Door                                                 1.0\n",
       "7dMTCS9BLzBqYTlAuHP8TM  XT4S1S                                                    1.0\n",
       "0Z99Xe1lGBmq60RwJ5YU18  PING PONG                                                 1.0\n",
       "1t8sqIScEIP0B4bQzBuI2P  MY BAG                                                    1.0\n",
       "0bspC5fLlWgwCM6Rx1YUIh  BIG MAD                                                   1.0\n",
       "7gRFDGEzF9UkBV233yv2dc  Shut Down                                                 1.0\n",
       "4kXxEhuatrvwrTQycA7s9B  BIZCOCHITO                                                1.0\n",
       "0W6I02J9xcqK8MtSeosEXb  Get Into It (Yuh)                                         1.0\n",
       "78qd8dvwea0Gosb6Fe6j3k  Boss Bitch                                                1.0\n",
       "16EMONl2vH3rt9f4ehTG8g  212                                                       1.0\n",
       "69xohKu8C1fsflYAiSNbwM  Run BTS                                                   1.0\n",
       "59WuWdDH06AYXgdoMENEa3  Mirror Mirror                                             1.0\n",
       "6Uj1ctrBOjOas8xZXGqKk4  Woman                                                     1.0\n",
       "7L72EQGrKTteP3IjLHNdFJ  Best Friend (feat. Doja Cat, Jamie & CHANMINA) [Remix]    1.0\n",
       "4fsQ0K37TOXa3hEQfjEic1  ANTIFRAGILE                                               1.0\n",
       "4YUqGDMd1yJAa5i2ShysI6  NOBODY LIKE YOU                                           1.0\n",
       "5T9xQdmoDhiEopZv86O3mN  Bulletproof - Tiborg Remix                                1.0\n",
       "0TzXhuxOpmvIa68QykPqIV  Sweat                                                     1.0\n",
       "7LFN9ERrNzpsVg5BYcJCqt  Problem                                                   1.0\n",
       "Name: like, dtype: float64"
      ]
     },
     "execution_count": 71,
     "metadata": {},
     "output_type": "execute_result"
    }
   ],
   "source": [
    "rb_playlist.set_like_status(1)\n",
    "rb_playlist.ml_data['like']"
   ]
  },
  {
   "attachments": {},
   "cell_type": "markdown",
   "metadata": {},
   "source": [
    "## Appendix\n",
    "\n",
    "Here are some helpful examples of how to get other attributes of your playlist."
   ]
  },
  {
   "cell_type": "code",
   "execution_count": 66,
   "metadata": {},
   "outputs": [
    {
     "data": {
      "text/plain": [
       "dict_keys(['album', 'artists', 'available_markets', 'disc_number', 'duration_ms', 'episode', 'explicit', 'external_ids', 'external_urls', 'href', 'id', 'is_local', 'name', 'popularity', 'preview_url', 'track', 'track_number', 'type', 'uri'])"
      ]
     },
     "execution_count": 66,
     "metadata": {},
     "output_type": "execute_result"
    }
   ],
   "source": [
    "## These are attributes available for songs that aren't necessarily going to be used for machine learning but are nice to know about\n",
    "rb_playlist.track_attribute_labels"
   ]
  },
  {
   "cell_type": "code",
   "execution_count": 39,
   "metadata": {},
   "outputs": [
    {
     "data": {
      "text/plain": [
       "Index(['XT4S1S'], dtype='object', name='name')"
      ]
     },
     "execution_count": 39,
     "metadata": {},
     "output_type": "execute_result"
    }
   ],
   "source": [
    "# Example of how to get name from id\n",
    "rb_playlist.data.loc['7dMTCS9BLzBqYTlAuHP8TM'].index.get_level_values('name')"
   ]
  },
  {
   "cell_type": "code",
   "execution_count": null,
   "metadata": {},
   "outputs": [],
   "source": []
  }
 ],
 "metadata": {
  "kernelspec": {
   "display_name": "leyden",
   "language": "python",
   "name": "python3"
  },
  "language_info": {
   "codemirror_mode": {
    "name": "ipython",
    "version": 3
   },
   "file_extension": ".py",
   "mimetype": "text/x-python",
   "name": "python",
   "nbconvert_exporter": "python",
   "pygments_lexer": "ipython3",
   "version": "3.11.3"
  },
  "orig_nbformat": 4
 },
 "nbformat": 4,
 "nbformat_minor": 2
}
